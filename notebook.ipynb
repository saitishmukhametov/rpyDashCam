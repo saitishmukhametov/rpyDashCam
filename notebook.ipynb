{
  "nbformat": 4,
  "nbformat_minor": 0,
  "metadata": {
    "colab": {
      "provenance": []
    },
    "kernelspec": {
      "name": "python3",
      "display_name": "Python 3"
    },
    "language_info": {
      "name": "python"
    },
    "accelerator": "GPU",
    "gpuClass": "standard"
  },
  "cells": [
    {
      "cell_type": "code",
      "execution_count": 1,
      "metadata": {
        "colab": {
          "base_uri": "https://localhost:8080/",
          "height": 105
        },
        "id": "k4BZIiwn8HNf",
        "outputId": "bcebcc08-986a-4403-aedf-618a82666946"
      },
      "outputs": [
        {
          "output_type": "stream",
          "name": "stdout",
          "text": [
            "Mounted at /content/gdrive/\n"
          ]
        },
        {
          "output_type": "execute_result",
          "data": {
            "text/plain": [
              "'\\ndevice = \"cuda\" if torch.cuda.is_available() else \"cpu\"\\nmodel_large = raft_large(weights=Raft_Large_Weights.C_T_V2, progress=False).to(device)\\nmodel_large.eval()\\n\\nprev, curr = next(generate_frames(video_path))\\nwith torch.no_grad():\\n    flow_image = model_large(process(prev).to(device), process(curr).to(device))[-1]\\n    flow_image = flow_to_image(flow_image).squeeze(0).cpu().permute(1,2,0)\\nprev, curr = transform_image(prev), transform_image(curr)\\nfig, ax = plt.subplots(3,1)\\nfig.set_size_inches(20, 10)\\nax[0].imshow(prev)\\nax[1].imshow(curr)\\nax[2].imshow(flow_image)\\n'"
            ],
            "application/vnd.google.colaboratory.intrinsic+json": {
              "type": "string"
            }
          },
          "metadata": {},
          "execution_count": 1
        }
      ],
      "source": [
        "from google.colab import drive\n",
        "drive.mount('/content/gdrive/')\n",
        "import sys\n",
        "sys.path.append('gdrive/MyDrive/ang')\n",
        "import torch\n",
        "import cv2\n",
        "import numpy as np\n",
        "import matplotlib.pyplot as plt\n",
        "from utils import generate_frames, process, transform_image\n",
        "from itertools import count\n",
        "from tqdm import tqdm\n",
        "from torchvision.models.optical_flow import Raft_Large_Weights, raft_large\n",
        "from torchvision.utils import flow_to_image\n",
        "from model import Network\n",
        "\n",
        "video_path = 'labeled/3.hevc'\n",
        "'''\n",
        "device = \"cuda\" if torch.cuda.is_available() else \"cpu\"\n",
        "model_large = raft_large(weights=Raft_Large_Weights.C_T_V2, progress=False).to(device)\n",
        "model_large.eval()\n",
        "\n",
        "prev, curr = next(generate_frames(video_path))\n",
        "with torch.no_grad():\n",
        "    flow_image = model_large(process(prev).to(device), process(curr).to(device))[-1]\n",
        "    flow_image = flow_to_image(flow_image).squeeze(0).cpu().permute(1,2,0)\n",
        "prev, curr = transform_image(prev), transform_image(curr)\n",
        "fig, ax = plt.subplots(3,1)\n",
        "fig.set_size_inches(20, 10)\n",
        "ax[0].imshow(prev)\n",
        "ax[1].imshow(curr)\n",
        "ax[2].imshow(flow_image)\n",
        "'''"
      ]
    },
    {
      "cell_type": "code",
      "source": [
        "import random\n",
        "import torch.utils.data as data_utils\n",
        "\n",
        "def train_data(videos_train=[0,1,2,4], flips=False):\n",
        "  device = \"cuda\" if torch.cuda.is_available() else \"cpu\"\n",
        "  model_large = raft_large(weights=Raft_Large_Weights.C_T_V2, progress=False).to(device)\n",
        "  model_large.eval()\n",
        "  with torch.no_grad():\n",
        "    flip = False\n",
        "    for v in videos_train:\n",
        "        video_path, txt_path = f'labeled/{v}.hevc', f'labeled/{v}.txt'\n",
        "        angles = np.loadtxt(txt_path)[1:]\n",
        "        labels = angles[~np.isnan(angles).any(axis=1)]\n",
        "        true_t = 0\n",
        "        for t, (prev,curr) in enumerate(tqdm(generate_frames(video_path))):\n",
        "            if np.isnan(angles[t]).any():\n",
        "                continue\n",
        "            if flips:\n",
        "              if flip := random.choice([True,False]):\n",
        "                  labels[true_t][1]*=-1\n",
        "            prev, curr = process(prev, flip).to(device), process(curr,flip).to(device)\n",
        "            flow = model_large(prev,curr)[-1]\n",
        "            if t==0:\n",
        "                data = flow\n",
        "            else:\n",
        "                data = torch.cat([data,flow])\n",
        "            true_t+=1\n",
        "        dataset = torch.utils.data.TensorDataset(data, torch.from_numpy(labels).float().to(device))\n",
        "        torch.save(dataset, f'pts/{v}_train.pt')\n",
        "\n",
        "def eval_data(videos_eval=[3]):\n",
        "  device = \"cuda\" if torch.cuda.is_available() else \"cpu\"\n",
        "  model_large = raft_large(weights=Raft_Large_Weights.C_T_V2, progress=False).to(device)\n",
        "  model_large.eval()\n",
        "  with torch.no_grad():\n",
        "    for v in videos_eval:\n",
        "        video_path, txt_path = f'labeled/{v}.hevc', f'labeled/{v}.txt'\n",
        "        angles = np.loadtxt(txt_path)[1:]\n",
        "        labels = angles[~np.isnan(angles).any(axis=1)]\n",
        "        for t, (prev,curr) in enumerate(tqdm(generate_frames(video_path))):\n",
        "            if np.isnan(angles[t]).any():\n",
        "                continue\n",
        "            prev, curr = process(prev).to(device), process(curr).to(device)\n",
        "            flow = model_large(prev,curr)[-1]\n",
        "            if t==0:\n",
        "                data = flow\n",
        "            else:\n",
        "                data = torch.cat([data,flow])\n",
        "        dataset = torch.utils.data.TensorDataset(data, torch.from_numpy(labels).float().to(device))\n",
        "        torch.save(dataset, f'pts/{v}_eval.pt')\n",
        "\n",
        "def train_eval_datasets(train_ids=[0,1,2,4], eval_ids=[3]):\n",
        "  datasets = []\n",
        "  for v in train_ids:\n",
        "      datasets.append(torch.load(f'pts/{v}_train.pt'))\n",
        "  train_d = torch.utils.data.ConcatDataset(datasets)\n",
        "\n",
        "  datasets = []\n",
        "  for v in eval_ids:\n",
        "      datasets.append(torch.load(f'pts/{v}_eval.pt'))\n",
        "  eval_d = torch.utils.data.ConcatDataset(datasets)\n",
        "  return train_d, eval_d\n"
      ],
      "metadata": {
        "id": "4ls2llUb89Lu"
      },
      "execution_count": 2,
      "outputs": []
    },
    {
      "cell_type": "code",
      "source": [
        "train_data(flips=True)\n",
        "eval_data()"
      ],
      "metadata": {
        "colab": {
          "base_uri": "https://localhost:8080/"
        },
        "id": "0t7N7pzZMAu_",
        "outputId": "e308d59d-8378-4a58-b58e-5c215f7c6f4a"
      },
      "execution_count": 3,
      "outputs": [
        {
          "output_type": "stream",
          "name": "stderr",
          "text": [
            "Downloading: \"https://download.pytorch.org/models/raft_large_C_T_V2-1bb1363a.pth\" to /root/.cache/torch/hub/checkpoints/raft_large_C_T_V2-1bb1363a.pth\n",
            "1199it [01:19, 15.09it/s]\n",
            "1199it [01:11, 16.82it/s]\n",
            "1199it [00:45, 26.45it/s]\n",
            "1195it [01:08, 17.41it/s]\n",
            "1199it [00:53, 22.22it/s]\n"
          ]
        }
      ]
    },
    {
      "cell_type": "code",
      "source": [
        "train_d, eval_d = train_eval_datasets()"
      ],
      "metadata": {
        "id": "29lANYAgKdPa"
      },
      "execution_count": 4,
      "outputs": []
    },
    {
      "cell_type": "code",
      "source": [
        "from torch.utils.data import DataLoader\n",
        "\n",
        "train_loader = DataLoader(train_d, batch_size=1, num_workers=0, shuffle=True, pin_memory=False)\n",
        "mn, std = np.zeros(2), np.zeros(2)\n",
        "for (flow, _) in train_loader:\n",
        "    mn += flow.mean((0,2,3)).cpu().numpy()\n",
        "    std += flow.std((0,2,3)).cpu().numpy()\n",
        "\n",
        "mn /= len(train_loader)\n",
        "std /= len(train_loader)\n",
        "\n",
        "print (mn)\n",
        "print (std)"
      ],
      "metadata": {
        "colab": {
          "base_uri": "https://localhost:8080/"
        },
        "id": "cDysabK_V0CL",
        "outputId": "59e48509-09e5-42d3-c5f6-b363d04f8708"
      },
      "execution_count": 5,
      "outputs": [
        {
          "output_type": "stream",
          "name": "stdout",
          "text": [
            "[-8.78297587 -1.34488834]\n",
            "[20.84545755  6.77463006]\n"
          ]
        }
      ]
    },
    {
      "cell_type": "code",
      "source": [
        "MEANS = np.array(mn)\n",
        "STD = np.array(std)\n",
        "\n",
        "def norm(flow, mn=MEANS, std=STD):\n",
        "    mn = torch.Tensor(mn).to(device)\n",
        "    std = torch.Tensor(std).to(device)\n",
        "    flow[:, 0, :, :] = (flow[:,0,:,:] - MEANS[0])/STD[0]\n",
        "    flow[:, 1, :, :] = (flow[:,1,:,:] - MEANS[1])/STD[1]\n",
        "    return flow\n",
        "\n",
        "EPOCHS = 10\n",
        "train_loader = DataLoader(train_d, batch_size=32, num_workers=0, shuffle=True, pin_memory=False)\n",
        "eval_loader = DataLoader(eval_d, batch_size=1, num_workers=0, shuffle=False, pin_memory=False)\n",
        "\n",
        "device = torch.device(\"cuda\" if torch.cuda.is_available() else \"cpu\")\n",
        "\n",
        "config = {}\n",
        "config['input_shape'] = (1, 2, 360, 128)\n",
        "config['n_classes'] = 2\n",
        "config['base_channels'] = 16\n",
        "config['block_type'] = 'basic'\n",
        "config['depth'] = 86\n",
        "\n",
        "model = Network(config).to(device)\n",
        "\n",
        "criterion = torch.nn.MSELoss()\n",
        "optimizer = torch.optim.Adam(model.parameters(), lr=3e-3)\n",
        "scheduler = torch.optim.lr_scheduler.ReduceLROnPlateau(optimizer, mode='min', factor=0.1,\n",
        "    patience=1, threshold=0.01, threshold_mode='abs', min_lr=3e-8)\n",
        "train_history = []\n",
        "eval_history = []\n",
        "\n",
        "print('Start training ...')\n",
        "min_ev = 10000\n",
        "for epoch in range(EPOCHS):\n",
        "    model.train()\n",
        "    training_loss = 0\n",
        "    eval_loss = 0\n",
        "    for i, (flow, angle) in enumerate(train_loader):\n",
        "        flow, angle = norm(flow.to(device)), angle.to(device)\n",
        "        optimizer.zero_grad()\n",
        "        pred_angle = model(flow)\n",
        "        loss = criterion(pred_angle, angle)\n",
        "        loss.backward()\n",
        "        optimizer.step()\n",
        "        training_loss += loss.item()\n",
        "    train_history.append(training_loss/len(train_loader))\n",
        "    \n",
        "    model.eval()\n",
        "    with torch.no_grad():\n",
        "        for i, (flow, angle) in enumerate(eval_loader):\n",
        "            flow, angle = norm(flow.to(device)), angle.to(device)\n",
        "            with torch.no_grad():\n",
        "                pred_angle = model(flow)\n",
        "                loss = criterion(pred_angle, angle)\n",
        "                eval_loss += loss.item()\n",
        "        if eval_loss/len(eval_loader) < min_ev:\n",
        "            min_ev = eval_loss/len(eval_loader)\n",
        "            torch.save(model.state_dict(), 'least_eval_loss.pt')\n",
        "        eval_history.append(eval_loss/len(eval_loader))\n",
        "        logging_dict = {\"epoch\": epoch+1,\n",
        "                        \"train_epoch_loss\": training_loss/len(train_loader),\n",
        "                        \"eval_epoch_loss\": eval_loss/len(eval_loader),\n",
        "                        \"lr\": optimizer.param_groups[0]['lr']}\n",
        "        print (logging_dict)\n",
        "        scheduler.step(training_loss/len(train_loader))\n",
        "\n",
        "print('Training complete!')\n",
        "torch.save(model.state_dict(), 'model.pt')\n",
        "print('Model saved!')"
      ],
      "metadata": {
        "colab": {
          "base_uri": "https://localhost:8080/"
        },
        "id": "A9spQz-49CSE",
        "outputId": "de19264e-6ebe-4bea-b994-6d43e56f27ad"
      },
      "execution_count": 6,
      "outputs": [
        {
          "output_type": "stream",
          "name": "stdout",
          "text": [
            "Start training ...\n",
            "{'epoch': 1, 'train_epoch_loss': 0.07614883555602353, 'eval_epoch_loss': 0.001654810052987095, 'lr': 0.003}\n",
            "{'epoch': 2, 'train_epoch_loss': 0.0011838178040605492, 'eval_epoch_loss': 0.0005839836300860349, 'lr': 0.003}\n",
            "{'epoch': 3, 'train_epoch_loss': 0.0008840024702780603, 'eval_epoch_loss': 0.0016776256701161246, 'lr': 0.003}\n",
            "{'epoch': 4, 'train_epoch_loss': 0.0008057069805080164, 'eval_epoch_loss': 0.002773966697418073, 'lr': 0.003}\n",
            "{'epoch': 5, 'train_epoch_loss': 0.0006431210257347588, 'eval_epoch_loss': 0.0007221200194884423, 'lr': 0.0006000000000000001}\n",
            "{'epoch': 6, 'train_epoch_loss': 0.0006165452997328159, 'eval_epoch_loss': 0.00145777312892147, 'lr': 0.0006000000000000001}\n",
            "{'epoch': 7, 'train_epoch_loss': 0.000572521050233138, 'eval_epoch_loss': 0.0009970342610114617, 'lr': 0.00012000000000000002}\n",
            "{'epoch': 8, 'train_epoch_loss': 0.0005761481917513009, 'eval_epoch_loss': 0.0009578941104541707, 'lr': 0.00012000000000000002}\n",
            "{'epoch': 9, 'train_epoch_loss': 0.000559922179539567, 'eval_epoch_loss': 0.001013737576942959, 'lr': 2.4000000000000004e-05}\n",
            "{'epoch': 10, 'train_epoch_loss': 0.0005630992023267194, 'eval_epoch_loss': 0.0008480180024528253, 'lr': 2.4000000000000004e-05}\n",
            "Training complete!\n",
            "Model saved!\n"
          ]
        }
      ]
    },
    {
      "cell_type": "code",
      "source": [
        "from utils import m_a, get_error\n",
        "\n",
        "#model.load_state_dict(torch.load('least_eval_loss.pt'))\n",
        "model.eval()\n",
        "preds, gt = [], []\n",
        "for i, (flow, angle) in enumerate(eval_loader):\n",
        "        flow, angle = norm(flow.to(device)), angle.to(device)\n",
        "        gt.append(angle.cpu().numpy()[0])\n",
        "        with torch.no_grad():\n",
        "            pred_angle = model(flow)    \n",
        "            preds.append(pred_angle.cpu().numpy()[0]) \n",
        "\n",
        "preds, gt = np.array(preds), np.array(gt)\n",
        "get_error(preds, gt, 10)\n",
        "plt.plot(m_a(preds[:,0], 10))\n",
        "plt.plot(gt[:,0])"
      ],
      "metadata": {
        "colab": {
          "base_uri": "https://localhost:8080/",
          "height": 300
        },
        "id": "-lmYXC0n9EEx",
        "outputId": "7374f9cc-da99-44ff-d91e-8df99cd52099"
      },
      "execution_count": 7,
      "outputs": [
        {
          "output_type": "stream",
          "name": "stdout",
          "text": [
            "error vs constant zero pred is 80.13% \n"
          ]
        },
        {
          "output_type": "execute_result",
          "data": {
            "text/plain": [
              "[<matplotlib.lines.Line2D at 0x7f0e21c342e0>]"
            ]
          },
          "metadata": {},
          "execution_count": 7
        },
        {
          "output_type": "display_data",
          "data": {
            "text/plain": [
              "<Figure size 432x288 with 1 Axes>"
            ],
            "image/png": "[encoded data removed]"
          },
          "metadata": {
            "needs_background": "light"
          }
        }
      ]
    },
    {
      "cell_type": "code",
      "source": [
        "plt.plot(m_a(preds[:,1],10))\n",
        "plt.plot(gt[:,1])"
      ],
      "metadata": {
        "colab": {
          "base_uri": "https://localhost:8080/",
          "height": 282
        },
        "id": "wjq9WQRaPMpj",
        "outputId": "02204306-96d3-422f-8ae8-cc9a14645297"
      },
      "execution_count": 8,
      "outputs": [
        {
          "output_type": "execute_result",
          "data": {
            "text/plain": [
              "[<matplotlib.lines.Line2D at 0x7f0e2d5bb880>]"
            ]
          },
          "metadata": {},
          "execution_count": 8
        },
        {
          "output_type": "display_data",
          "data": {
            "text/plain": [
              "<Figure size 432x288 with 1 Axes>"
            ],
            "image/png": "[encoded data removed]"
          },
          "metadata": {
            "needs_background": "light"
          }
        }
      ]
    }
  ]
}